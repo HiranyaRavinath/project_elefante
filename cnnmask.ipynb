{
  "nbformat": 4,
  "nbformat_minor": 0,
  "metadata": {
    "colab": {
      "name": "cnnmask.ipynb",
      "provenance": [],
      "mount_file_id": "1C-NBW3J8NQC1UmHguzP01rqcTDKjDDnF",
      "authorship_tag": "ABX9TyMvOokNu+QZOyt1V56ETEQw",
      "include_colab_link": true
    },
    "kernelspec": {
      "name": "python3",
      "display_name": "Python 3"
    }
  },
  "cells": [
    {
      "cell_type": "markdown",
      "metadata": {
        "id": "view-in-github",
        "colab_type": "text"
      },
      "source": [
        "<a href=\"https://colab.research.google.com/github/LalinduWenasara/project_elefante/blob/main/cnnmask.ipynb\" target=\"_parent\"><img src=\"https://colab.research.google.com/assets/colab-badge.svg\" alt=\"Open In Colab\"/></a>"
      ]
    },
    {
      "cell_type": "code",
      "metadata": {
        "colab": {
          "base_uri": "https://localhost:8080/"
        },
        "id": "i5QIavk6ZYP8",
        "outputId": "4137ab1a-eba1-44c9-d740-a8192c987d60"
      },
      "source": [
        "!python3 \"/content/drive/MyDrive/mask/custom.py\"\r\n"
      ],
      "execution_count": 1,
      "outputs": [
        {
          "output_type": "stream",
          "text": [
            "2021-02-23 11:19:49.970165: I tensorflow/stream_executor/platform/default/dso_loader.cc:49] Successfully opened dynamic library libcudart.so.10.1\n",
            "Traceback (most recent call last):\n",
            "  File \"/content/drive/MyDrive/mask/custom.py\", line 187, in <module>\n",
            "    model_dir=DEFAULT_LOGS_DIR)\n",
            "  File \"/content/drive/MyDrive/mask/mrcnn/model.py\", line 1837, in __init__\n",
            "    self.keras_model = self.build(mode=mode, config=config)\n",
            "  File \"/content/drive/MyDrive/mask/mrcnn/model.py\", line 1876, in build\n",
            "    x, K.shape(input_image)[1:3]))(input_gt_boxes)\n",
            "  File \"/usr/local/lib/python3.6/dist-packages/tensorflow/python/keras/engine/base_layer.py\", line 952, in __call__\n",
            "    input_list)\n",
            "  File \"/usr/local/lib/python3.6/dist-packages/tensorflow/python/keras/engine/base_layer.py\", line 1091, in _functional_construction_call\n",
            "    inputs, input_masks, args, kwargs)\n",
            "  File \"/usr/local/lib/python3.6/dist-packages/tensorflow/python/keras/engine/base_layer.py\", line 822, in _keras_tensor_symbolic_call\n",
            "    return self._infer_output_signature(inputs, args, kwargs, input_masks)\n",
            "  File \"/usr/local/lib/python3.6/dist-packages/tensorflow/python/keras/engine/base_layer.py\", line 869, in _infer_output_signature\n",
            "    keras_tensor.keras_tensor_from_tensor, outputs)\n",
            "  File \"/usr/local/lib/python3.6/dist-packages/tensorflow/python/util/nest.py\", line 659, in map_structure\n",
            "    structure[0], [func(*x) for x in entries],\n",
            "  File \"/usr/local/lib/python3.6/dist-packages/tensorflow/python/util/nest.py\", line 659, in <listcomp>\n",
            "    structure[0], [func(*x) for x in entries],\n",
            "  File \"/usr/local/lib/python3.6/dist-packages/tensorflow/python/keras/engine/keras_tensor.py\", line 606, in keras_tensor_from_tensor\n",
            "    out = keras_tensor_cls.from_tensor(tensor)\n",
            "  File \"/usr/local/lib/python3.6/dist-packages/tensorflow/python/keras/engine/keras_tensor.py\", line 205, in from_tensor\n",
            "    type_spec = type_spec_module.type_spec_from_value(tensor)\n",
            "  File \"/usr/local/lib/python3.6/dist-packages/tensorflow/python/framework/type_spec.py\", line 554, in type_spec_from_value\n",
            "    (value, type(value).__name__))\n",
            "TypeError: Could not build a TypeSpec for <KerasTensor: shape=(None, None, 4) dtype=float32 (created by layer 'tf.math.truediv')> with type KerasTensor\n"
          ],
          "name": "stdout"
        }
      ]
    },
    {
      "cell_type": "code",
      "metadata": {
        "colab": {
          "base_uri": "https://localhost:8080/"
        },
        "id": "LRQtJw2jZyHJ",
        "outputId": "e6fd790d-27db-4da9-fa46-e6326f1fb4d4"
      },
      "source": [
        "%tensorflow_version 1.x"
      ],
      "execution_count": 2,
      "outputs": [
        {
          "output_type": "stream",
          "text": [
            "TensorFlow 1.x selected.\n"
          ],
          "name": "stdout"
        }
      ]
    },
    {
      "cell_type": "code",
      "metadata": {
        "colab": {
          "base_uri": "https://localhost:8080/"
        },
        "id": "x72UL2t4Z2sD",
        "outputId": "8eef6d34-e9cd-4bdd-ad10-b9c63698fba9"
      },
      "source": [
        "!python3 \"/content/drive/MyDrive/mask/custom.py\""
      ],
      "execution_count": 11,
      "outputs": [
        {
          "output_type": "stream",
          "text": [
            "Using TensorFlow backend.\n",
            "WARNING:tensorflow:From /tensorflow-1.15.2/python3.6/tensorflow_core/python/ops/resource_variable_ops.py:1630: calling BaseResourceVariable.__init__ (from tensorflow.python.ops.resource_variable_ops) with constraint is deprecated and will be removed in a future version.\n",
            "Instructions for updating:\n",
            "If using Keras pass *_constraint arguments to layers.\n",
            "WARNING:tensorflow:From /tensorflow-1.15.2/python3.6/keras/backend/tensorflow_backend.py:4070: The name tf.nn.max_pool is deprecated. Please use tf.nn.max_pool2d instead.\n",
            "\n",
            "WARNING:tensorflow:From /tensorflow-1.15.2/python3.6/tensorflow_core/python/ops/array_ops.py:1475: where (from tensorflow.python.ops.array_ops) is deprecated and will be removed in a future version.\n",
            "Instructions for updating:\n",
            "Use tf.where in 2.0, which has the same broadcast rule as np.where\n",
            "WARNING:tensorflow:From /content/drive/MyDrive/mask/mrcnn/model.py:553: The name tf.random_shuffle is deprecated. Please use tf.random.shuffle instead.\n",
            "\n",
            "WARNING:tensorflow:From /content/drive/MyDrive/mask/mrcnn/utils.py:202: The name tf.log is deprecated. Please use tf.math.log instead.\n",
            "\n",
            "WARNING:tensorflow:From /content/drive/MyDrive/mask/mrcnn/model.py:600: calling crop_and_resize_v1 (from tensorflow.python.ops.image_ops_impl) with box_ind is deprecated and will be removed in a future version.\n",
            "Instructions for updating:\n",
            "box_ind is deprecated, use box_indices instead\n",
            "2021-02-23 12:45:08.484664: I tensorflow/stream_executor/platform/default/dso_loader.cc:44] Successfully opened dynamic library libcuda.so.1\n",
            "2021-02-23 12:45:08.496011: E tensorflow/stream_executor/cuda/cuda_driver.cc:318] failed call to cuInit: CUDA_ERROR_NO_DEVICE: no CUDA-capable device is detected\n",
            "2021-02-23 12:45:08.496076: I tensorflow/stream_executor/cuda/cuda_diagnostics.cc:156] kernel driver does not appear to be running on this host (d5726b6c6b11): /proc/driver/nvidia/version does not exist\n",
            "2021-02-23 12:45:08.502883: I tensorflow/core/platform/profile_utils/cpu_utils.cc:94] CPU Frequency: 2299995000 Hz\n",
            "2021-02-23 12:45:08.503161: I tensorflow/compiler/xla/service/service.cc:168] XLA service 0x193a4a00 initialized for platform Host (this does not guarantee that XLA will be used). Devices:\n",
            "2021-02-23 12:45:08.503201: I tensorflow/compiler/xla/service/service.cc:176]   StreamExecutor device (0): Host, Default Version\n",
            "objects: ['tusker']\n",
            "numids [2]\n",
            "objects: ['elephant']\n",
            "numids [1]\n",
            "objects: ['tusker']\n",
            "numids [2]\n",
            "objects: ['elephant']\n",
            "numids [1]\n",
            "objects: ['elephant']\n",
            "numids [1]\n",
            "objects: ['tusker']\n",
            "numids [2]\n",
            "objects: ['tusker']\n",
            "numids [2]\n",
            "objects: ['elephant']\n",
            "numids [1]\n",
            "objects: ['tusker']\n",
            "numids [2]\n",
            "objects: ['elephant']\n",
            "numids [1]\n",
            "objects: ['elephant']\n",
            "numids [1]\n",
            "objects: ['elephant']\n",
            "numids [1]\n",
            "Training network heads\n",
            "\n",
            "Starting at epoch 0. LR=0.001\n",
            "\n",
            "Checkpoint Path: /content/drive/MyDrive/mask/MaskRCNN/logs/object20210223T1245/mask_rcnn_object_{epoch:04d}.h5\n",
            "Selecting layers to train\n",
            "fpn_c5p5               (Conv2D)\n",
            "fpn_c4p4               (Conv2D)\n",
            "fpn_c3p3               (Conv2D)\n",
            "fpn_c2p2               (Conv2D)\n",
            "fpn_p5                 (Conv2D)\n",
            "fpn_p2                 (Conv2D)\n",
            "fpn_p3                 (Conv2D)\n",
            "fpn_p4                 (Conv2D)\n",
            "In model:  rpn_model\n",
            "    rpn_conv_shared        (Conv2D)\n",
            "    rpn_class_raw          (Conv2D)\n",
            "    rpn_bbox_pred          (Conv2D)\n",
            "mrcnn_mask_conv1       (TimeDistributed)\n",
            "mrcnn_mask_bn1         (TimeDistributed)\n",
            "mrcnn_mask_conv2       (TimeDistributed)\n",
            "mrcnn_mask_bn2         (TimeDistributed)\n",
            "mrcnn_class_conv1      (TimeDistributed)\n",
            "mrcnn_class_bn1        (TimeDistributed)\n",
            "mrcnn_mask_conv3       (TimeDistributed)\n",
            "mrcnn_mask_bn3         (TimeDistributed)\n",
            "mrcnn_class_conv2      (TimeDistributed)\n",
            "mrcnn_class_bn2        (TimeDistributed)\n",
            "mrcnn_mask_conv4       (TimeDistributed)\n",
            "mrcnn_mask_bn4         (TimeDistributed)\n",
            "mrcnn_bbox_fc          (TimeDistributed)\n",
            "mrcnn_mask_deconv      (TimeDistributed)\n",
            "mrcnn_class_logits     (TimeDistributed)\n",
            "mrcnn_mask             (TimeDistributed)\n",
            "Traceback (most recent call last):\n",
            "  File \"/content/drive/MyDrive/mask/custom.py\", line 198, in <module>\n",
            "    train(model)\t\t\t\n",
            "  File \"/content/drive/MyDrive/mask/custom.py\", line 181, in train\n",
            "    layers='heads')\n",
            "  File \"/content/drive/MyDrive/mask/mrcnn/model.py\", line 2354, in train\n",
            "    self.compile(learning_rate, self.config.LEARNING_MOMENTUM)\n",
            "  File \"/content/drive/MyDrive/mask/mrcnn/model.py\", line 2199, in compile\n",
            "    self.keras_model.metrics_tensors.append(loss)\n",
            "AttributeError: 'Model' object has no attribute 'metrics_tensors'\n"
          ],
          "name": "stdout"
        }
      ]
    },
    {
      "cell_type": "code",
      "metadata": {
        "colab": {
          "base_uri": "https://localhost:8080/"
        },
        "id": "OL6nqxJWaxHO",
        "outputId": "a0a3d239-b9bf-44ca-c8af-93067095d700"
      },
      "source": [
        "!pip3 install keras==2.2.5\r\n"
      ],
      "execution_count": 13,
      "outputs": [
        {
          "output_type": "stream",
          "text": [
            "Collecting keras==2.2.5\n",
            "\u001b[?25l  Downloading https://files.pythonhosted.org/packages/f8/ba/2d058dcf1b85b9c212cc58264c98a4a7dd92c989b798823cc5690d062bb2/Keras-2.2.5-py2.py3-none-any.whl (336kB)\n",
            "\r\u001b[K     |█                               | 10kB 10.9MB/s eta 0:00:01\r\u001b[K     |██                              | 20kB 16.1MB/s eta 0:00:01\r\u001b[K     |███                             | 30kB 10.4MB/s eta 0:00:01\r\u001b[K     |████                            | 40kB 8.6MB/s eta 0:00:01\r\u001b[K     |████▉                           | 51kB 4.7MB/s eta 0:00:01\r\u001b[K     |█████▉                          | 61kB 5.1MB/s eta 0:00:01\r\u001b[K     |██████▉                         | 71kB 5.0MB/s eta 0:00:01\r\u001b[K     |███████▉                        | 81kB 5.2MB/s eta 0:00:01\r\u001b[K     |████████▊                       | 92kB 5.6MB/s eta 0:00:01\r\u001b[K     |█████████▊                      | 102kB 4.3MB/s eta 0:00:01\r\u001b[K     |██████████▊                     | 112kB 4.3MB/s eta 0:00:01\r\u001b[K     |███████████▊                    | 122kB 4.3MB/s eta 0:00:01\r\u001b[K     |████████████▊                   | 133kB 4.3MB/s eta 0:00:01\r\u001b[K     |█████████████▋                  | 143kB 4.3MB/s eta 0:00:01\r\u001b[K     |██████████████▋                 | 153kB 4.3MB/s eta 0:00:01\r\u001b[K     |███████████████▋                | 163kB 4.3MB/s eta 0:00:01\r\u001b[K     |████████████████▋               | 174kB 4.3MB/s eta 0:00:01\r\u001b[K     |█████████████████▌              | 184kB 4.3MB/s eta 0:00:01\r\u001b[K     |██████████████████▌             | 194kB 4.3MB/s eta 0:00:01\r\u001b[K     |███████████████████▌            | 204kB 4.3MB/s eta 0:00:01\r\u001b[K     |████████████████████▌           | 215kB 4.3MB/s eta 0:00:01\r\u001b[K     |█████████████████████▍          | 225kB 4.3MB/s eta 0:00:01\r\u001b[K     |██████████████████████▍         | 235kB 4.3MB/s eta 0:00:01\r\u001b[K     |███████████████████████▍        | 245kB 4.3MB/s eta 0:00:01\r\u001b[K     |████████████████████████▍       | 256kB 4.3MB/s eta 0:00:01\r\u001b[K     |█████████████████████████▍      | 266kB 4.3MB/s eta 0:00:01\r\u001b[K     |██████████████████████████▎     | 276kB 4.3MB/s eta 0:00:01\r\u001b[K     |███████████████████████████▎    | 286kB 4.3MB/s eta 0:00:01\r\u001b[K     |████████████████████████████▎   | 296kB 4.3MB/s eta 0:00:01\r\u001b[K     |█████████████████████████████▎  | 307kB 4.3MB/s eta 0:00:01\r\u001b[K     |██████████████████████████████▏ | 317kB 4.3MB/s eta 0:00:01\r\u001b[K     |███████████████████████████████▏| 327kB 4.3MB/s eta 0:00:01\r\u001b[K     |████████████████████████████████| 337kB 4.3MB/s \n",
            "\u001b[?25hRequirement already satisfied: keras-preprocessing>=1.1.0 in /usr/local/lib/python3.6/dist-packages (from keras==2.2.5) (1.1.2)\n",
            "Requirement already satisfied: numpy>=1.9.1 in /usr/local/lib/python3.6/dist-packages (from keras==2.2.5) (1.19.5)\n",
            "Requirement already satisfied: pyyaml in /usr/local/lib/python3.6/dist-packages (from keras==2.2.5) (3.13)\n",
            "Requirement already satisfied: scipy>=0.14 in /usr/local/lib/python3.6/dist-packages (from keras==2.2.5) (1.4.1)\n",
            "Requirement already satisfied: h5py in /usr/local/lib/python3.6/dist-packages (from keras==2.2.5) (2.10.0)\n",
            "Requirement already satisfied: six>=1.9.0 in /usr/local/lib/python3.6/dist-packages (from keras==2.2.5) (1.15.0)\n",
            "Requirement already satisfied: keras-applications>=1.0.8 in /tensorflow-1.15.2/python3.6 (from keras==2.2.5) (1.0.8)\n",
            "Installing collected packages: keras\n",
            "  Found existing installation: Keras 2.3.1\n",
            "    Uninstalling Keras-2.3.1:\n",
            "      Successfully uninstalled Keras-2.3.1\n",
            "Successfully installed keras-2.4.3\n"
          ],
          "name": "stdout"
        }
      ]
    },
    {
      "cell_type": "code",
      "metadata": {
        "colab": {
          "base_uri": "https://localhost:8080/"
        },
        "id": "OM4gaMjCuLHe",
        "outputId": "c77b7467-d136-4d3c-839f-9f8db91d8056"
      },
      "source": [
        "!python3 \"/content/drive/MyDrive/mask/custom.py\""
      ],
      "execution_count": 15,
      "outputs": [
        {
          "output_type": "stream",
          "text": [
            "Using TensorFlow backend.\n",
            "WARNING:tensorflow:From /usr/local/lib/python3.6/dist-packages/keras/backend/tensorflow_backend.py:541: The name tf.placeholder is deprecated. Please use tf.compat.v1.placeholder instead.\n",
            "\n",
            "WARNING:tensorflow:From /usr/local/lib/python3.6/dist-packages/keras/backend/tensorflow_backend.py:66: The name tf.get_default_graph is deprecated. Please use tf.compat.v1.get_default_graph instead.\n",
            "\n",
            "WARNING:tensorflow:From /usr/local/lib/python3.6/dist-packages/keras/backend/tensorflow_backend.py:4432: The name tf.random_uniform is deprecated. Please use tf.random.uniform instead.\n",
            "\n",
            "WARNING:tensorflow:From /usr/local/lib/python3.6/dist-packages/keras/backend/tensorflow_backend.py:2139: The name tf.nn.fused_batch_norm is deprecated. Please use tf.compat.v1.nn.fused_batch_norm instead.\n",
            "\n",
            "WARNING:tensorflow:From /usr/local/lib/python3.6/dist-packages/keras/backend/tensorflow_backend.py:4267: The name tf.nn.max_pool is deprecated. Please use tf.nn.max_pool2d instead.\n",
            "\n",
            "WARNING:tensorflow:From /usr/local/lib/python3.6/dist-packages/keras/backend/tensorflow_backend.py:2239: The name tf.image.resize_nearest_neighbor is deprecated. Please use tf.compat.v1.image.resize_nearest_neighbor instead.\n",
            "\n",
            "WARNING:tensorflow:From /tensorflow-1.15.2/python3.6/tensorflow_core/python/ops/array_ops.py:1475: where (from tensorflow.python.ops.array_ops) is deprecated and will be removed in a future version.\n",
            "Instructions for updating:\n",
            "Use tf.where in 2.0, which has the same broadcast rule as np.where\n",
            "WARNING:tensorflow:From /content/drive/MyDrive/mask/mrcnn/model.py:553: The name tf.random_shuffle is deprecated. Please use tf.random.shuffle instead.\n",
            "\n",
            "WARNING:tensorflow:From /content/drive/MyDrive/mask/mrcnn/utils.py:202: The name tf.log is deprecated. Please use tf.math.log instead.\n",
            "\n",
            "WARNING:tensorflow:From /content/drive/MyDrive/mask/mrcnn/model.py:600: calling crop_and_resize_v1 (from tensorflow.python.ops.image_ops_impl) with box_ind is deprecated and will be removed in a future version.\n",
            "Instructions for updating:\n",
            "box_ind is deprecated, use box_indices instead\n",
            "WARNING:tensorflow:From /usr/local/lib/python3.6/dist-packages/keras/backend/tensorflow_backend.py:190: The name tf.get_default_session is deprecated. Please use tf.compat.v1.get_default_session instead.\n",
            "\n",
            "WARNING:tensorflow:From /usr/local/lib/python3.6/dist-packages/keras/backend/tensorflow_backend.py:197: The name tf.ConfigProto is deprecated. Please use tf.compat.v1.ConfigProto instead.\n",
            "\n",
            "WARNING:tensorflow:From /usr/local/lib/python3.6/dist-packages/keras/backend/tensorflow_backend.py:203: The name tf.Session is deprecated. Please use tf.compat.v1.Session instead.\n",
            "\n",
            "2021-02-23 13:00:20.430446: I tensorflow/core/platform/profile_utils/cpu_utils.cc:94] CPU Frequency: 2299995000 Hz\n",
            "2021-02-23 13:00:20.430712: I tensorflow/compiler/xla/service/service.cc:168] XLA service 0x18efca00 initialized for platform Host (this does not guarantee that XLA will be used). Devices:\n",
            "2021-02-23 13:00:20.430749: I tensorflow/compiler/xla/service/service.cc:176]   StreamExecutor device (0): Host, Default Version\n",
            "2021-02-23 13:00:20.435027: I tensorflow/stream_executor/platform/default/dso_loader.cc:44] Successfully opened dynamic library libcuda.so.1\n",
            "2021-02-23 13:00:20.446490: E tensorflow/stream_executor/cuda/cuda_driver.cc:318] failed call to cuInit: CUDA_ERROR_NO_DEVICE: no CUDA-capable device is detected\n",
            "2021-02-23 13:00:20.446553: I tensorflow/stream_executor/cuda/cuda_diagnostics.cc:156] kernel driver does not appear to be running on this host (d5726b6c6b11): /proc/driver/nvidia/version does not exist\n",
            "WARNING:tensorflow:From /usr/local/lib/python3.6/dist-packages/keras/backend/tensorflow_backend.py:207: The name tf.global_variables is deprecated. Please use tf.compat.v1.global_variables instead.\n",
            "\n",
            "WARNING:tensorflow:From /usr/local/lib/python3.6/dist-packages/keras/backend/tensorflow_backend.py:216: The name tf.is_variable_initialized is deprecated. Please use tf.compat.v1.is_variable_initialized instead.\n",
            "\n",
            "WARNING:tensorflow:From /usr/local/lib/python3.6/dist-packages/keras/backend/tensorflow_backend.py:223: The name tf.variables_initializer is deprecated. Please use tf.compat.v1.variables_initializer instead.\n",
            "\n",
            "objects: ['tusker']\n",
            "numids [2]\n",
            "objects: ['elephant']\n",
            "numids [1]\n",
            "objects: ['tusker']\n",
            "numids [2]\n",
            "objects: ['elephant']\n",
            "numids [1]\n",
            "objects: ['elephant']\n",
            "numids [1]\n",
            "objects: ['tusker']\n",
            "numids [2]\n",
            "objects: ['tusker']\n",
            "numids [2]\n",
            "objects: ['elephant']\n",
            "numids [1]\n",
            "objects: ['tusker']\n",
            "numids [2]\n",
            "objects: ['elephant']\n",
            "numids [1]\n",
            "objects: ['elephant']\n",
            "numids [1]\n",
            "objects: ['elephant']\n",
            "numids [1]\n",
            "Training network heads\n",
            "\n",
            "Starting at epoch 0. LR=0.001\n",
            "\n",
            "Checkpoint Path: /content/drive/MyDrive/mask/MaskRCNN/logs/object20210223T1300/mask_rcnn_object_{epoch:04d}.h5\n",
            "Selecting layers to train\n",
            "fpn_c5p5               (Conv2D)\n",
            "fpn_c4p4               (Conv2D)\n",
            "fpn_c3p3               (Conv2D)\n",
            "fpn_c2p2               (Conv2D)\n",
            "fpn_p5                 (Conv2D)\n",
            "fpn_p2                 (Conv2D)\n",
            "fpn_p3                 (Conv2D)\n",
            "fpn_p4                 (Conv2D)\n",
            "In model:  rpn_model\n",
            "    rpn_conv_shared        (Conv2D)\n",
            "    rpn_class_raw          (Conv2D)\n",
            "    rpn_bbox_pred          (Conv2D)\n",
            "mrcnn_mask_conv1       (TimeDistributed)\n",
            "mrcnn_mask_bn1         (TimeDistributed)\n",
            "mrcnn_mask_conv2       (TimeDistributed)\n",
            "mrcnn_mask_bn2         (TimeDistributed)\n",
            "mrcnn_class_conv1      (TimeDistributed)\n",
            "mrcnn_class_bn1        (TimeDistributed)\n",
            "mrcnn_mask_conv3       (TimeDistributed)\n",
            "mrcnn_mask_bn3         (TimeDistributed)\n",
            "mrcnn_class_conv2      (TimeDistributed)\n",
            "mrcnn_class_bn2        (TimeDistributed)\n",
            "mrcnn_mask_conv4       (TimeDistributed)\n",
            "mrcnn_mask_bn4         (TimeDistributed)\n",
            "mrcnn_bbox_fc          (TimeDistributed)\n",
            "mrcnn_mask_deconv      (TimeDistributed)\n",
            "mrcnn_class_logits     (TimeDistributed)\n",
            "mrcnn_mask             (TimeDistributed)\n",
            "/tensorflow-1.15.2/python3.6/tensorflow_core/python/framework/indexed_slices.py:424: UserWarning: Converting sparse IndexedSlices to a dense Tensor of unknown shape. This may consume a large amount of memory.\n",
            "  \"Converting sparse IndexedSlices to a dense Tensor of unknown shape. \"\n",
            "/tensorflow-1.15.2/python3.6/tensorflow_core/python/framework/indexed_slices.py:424: UserWarning: Converting sparse IndexedSlices to a dense Tensor of unknown shape. This may consume a large amount of memory.\n",
            "  \"Converting sparse IndexedSlices to a dense Tensor of unknown shape. \"\n",
            "/tensorflow-1.15.2/python3.6/tensorflow_core/python/framework/indexed_slices.py:424: UserWarning: Converting sparse IndexedSlices to a dense Tensor of unknown shape. This may consume a large amount of memory.\n",
            "  \"Converting sparse IndexedSlices to a dense Tensor of unknown shape. \"\n",
            "WARNING:tensorflow:From /tensorflow-1.15.2/python3.6/tensorflow_core/python/ops/resource_variable_ops.py:1630: calling BaseResourceVariable.__init__ (from tensorflow.python.ops.resource_variable_ops) with constraint is deprecated and will be removed in a future version.\n",
            "Instructions for updating:\n",
            "If using Keras pass *_constraint arguments to layers.\n",
            "Traceback (most recent call last):\n",
            "  File \"/content/drive/MyDrive/mask/custom.py\", line 198, in <module>\n",
            "    train(model)\t\t\t\n",
            "  File \"/content/drive/MyDrive/mask/custom.py\", line 181, in train\n",
            "    layers='heads')\n",
            "  File \"/content/drive/MyDrive/mask/mrcnn/model.py\", line 2374, in train\n",
            "    use_multiprocessing=True,\n",
            "  File \"/usr/local/lib/python3.6/dist-packages/keras/legacy/interfaces.py\", line 91, in wrapper\n",
            "    return func(*args, **kwargs)\n",
            "  File \"/usr/local/lib/python3.6/dist-packages/keras/engine/training.py\", line 1658, in fit_generator\n",
            "    initial_epoch=initial_epoch)\n",
            "  File \"/usr/local/lib/python3.6/dist-packages/keras/engine/training_generator.py\", line 42, in fit_generator\n",
            "    model._make_train_function()\n",
            "  File \"/usr/local/lib/python3.6/dist-packages/keras/engine/training.py\", line 512, in _make_train_function\n",
            "    loss=self.total_loss)\n",
            "  File \"/tensorflow-1.15.2/python3.6/tensorflow_core/python/keras/optimizer_v2/optimizer_v2.py\", line 504, in get_updates\n",
            "    return [self.apply_gradients(grads_and_vars)]\n",
            "  File \"/tensorflow-1.15.2/python3.6/tensorflow_core/python/keras/optimizer_v2/optimizer_v2.py\", line 433, in apply_gradients\n",
            "    self._create_slots(var_list)\n",
            "  File \"/tensorflow-1.15.2/python3.6/tensorflow_core/python/keras/optimizer_v2/gradient_descent.py\", line 100, in _create_slots\n",
            "    self.add_slot(var, \"momentum\")\n",
            "  File \"/tensorflow-1.15.2/python3.6/tensorflow_core/python/keras/optimizer_v2/optimizer_v2.py\", line 585, in add_slot\n",
            "    initial_value=initial_value)\n",
            "  File \"/tensorflow-1.15.2/python3.6/tensorflow_core/python/ops/variables.py\", line 260, in __call__\n",
            "    return cls._variable_v2_call(*args, **kwargs)\n",
            "  File \"/tensorflow-1.15.2/python3.6/tensorflow_core/python/ops/variables.py\", line 254, in _variable_v2_call\n",
            "    shape=shape)\n",
            "  File \"/tensorflow-1.15.2/python3.6/tensorflow_core/python/ops/variables.py\", line 235, in <lambda>\n",
            "    previous_getter = lambda **kws: default_variable_creator_v2(None, **kws)\n",
            "  File \"/tensorflow-1.15.2/python3.6/tensorflow_core/python/ops/variable_scope.py\", line 2552, in default_variable_creator_v2\n",
            "    shape=shape)\n",
            "  File \"/tensorflow-1.15.2/python3.6/tensorflow_core/python/ops/variables.py\", line 262, in __call__\n",
            "    return super(VariableMetaclass, cls).__call__(*args, **kwargs)\n",
            "  File \"/tensorflow-1.15.2/python3.6/tensorflow_core/python/ops/resource_variable_ops.py\", line 1406, in __init__\n",
            "    distribute_strategy=distribute_strategy)\n",
            "  File \"/tensorflow-1.15.2/python3.6/tensorflow_core/python/ops/resource_variable_ops.py\", line 1538, in _init_from_args\n",
            "    name=\"initial_value\", dtype=dtype)\n",
            "  File \"/tensorflow-1.15.2/python3.6/tensorflow_core/python/framework/ops.py\", line 1184, in convert_to_tensor\n",
            "    return convert_to_tensor_v2(value, dtype, preferred_dtype, name)\n",
            "  File \"/tensorflow-1.15.2/python3.6/tensorflow_core/python/framework/ops.py\", line 1242, in convert_to_tensor_v2\n",
            "    as_ref=False)\n",
            "  File \"/tensorflow-1.15.2/python3.6/tensorflow_core/python/framework/ops.py\", line 1273, in internal_convert_to_tensor\n",
            "    (dtype.name, value.dtype.name, value))\n",
            "ValueError: Tensor conversion requested dtype float32_ref for Tensor with dtype float32: <tf.Tensor 'training/SGD/SGD/fpn_c5p5/kernel/momentum/Initializer/zeros:0' shape=(1, 1, 2048, 256) dtype=float32>\n"
          ],
          "name": "stdout"
        }
      ]
    }
  ]
}