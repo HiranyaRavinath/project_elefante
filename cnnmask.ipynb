{
  "nbformat": 4,
  "nbformat_minor": 0,
  "metadata": {
    "colab": {
      "name": "cnnmask.ipynb",
      "provenance": [],
      "mount_file_id": "1C-NBW3J8NQC1UmHguzP01rqcTDKjDDnF",
      "authorship_tag": "ABX9TyNdvDL8FdfVNVAG7P+EXBDl",
      "include_colab_link": true
    },
    "kernelspec": {
      "name": "python3",
      "display_name": "Python 3"
    }
  },
  "cells": [
    {
      "cell_type": "markdown",
      "metadata": {
        "id": "view-in-github",
        "colab_type": "text"
      },
      "source": [
        "<a href=\"https://colab.research.google.com/github/LalinduWenasara/project_elefante/blob/main/cnnmask.ipynb\" target=\"_parent\"><img src=\"https://colab.research.google.com/assets/colab-badge.svg\" alt=\"Open In Colab\"/></a>"
      ]
    },
    {
      "cell_type": "code",
      "metadata": {
        "colab": {
          "base_uri": "https://localhost:8080/"
        },
        "id": "i5QIavk6ZYP8",
        "outputId": "4137ab1a-eba1-44c9-d740-a8192c987d60"
      },
      "source": [
        "!python3 \"/content/drive/MyDrive/mask/custom.py\"\r\n"
      ],
      "execution_count": null,
      "outputs": [
        {
          "output_type": "stream",
          "text": [
            "2021-02-23 11:19:49.970165: I tensorflow/stream_executor/platform/default/dso_loader.cc:49] Successfully opened dynamic library libcudart.so.10.1\n",
            "Traceback (most recent call last):\n",
            "  File \"/content/drive/MyDrive/mask/custom.py\", line 187, in <module>\n",
            "    model_dir=DEFAULT_LOGS_DIR)\n",
            "  File \"/content/drive/MyDrive/mask/mrcnn/model.py\", line 1837, in __init__\n",
            "    self.keras_model = self.build(mode=mode, config=config)\n",
            "  File \"/content/drive/MyDrive/mask/mrcnn/model.py\", line 1876, in build\n",
            "    x, K.shape(input_image)[1:3]))(input_gt_boxes)\n",
            "  File \"/usr/local/lib/python3.6/dist-packages/tensorflow/python/keras/engine/base_layer.py\", line 952, in __call__\n",
            "    input_list)\n",
            "  File \"/usr/local/lib/python3.6/dist-packages/tensorflow/python/keras/engine/base_layer.py\", line 1091, in _functional_construction_call\n",
            "    inputs, input_masks, args, kwargs)\n",
            "  File \"/usr/local/lib/python3.6/dist-packages/tensorflow/python/keras/engine/base_layer.py\", line 822, in _keras_tensor_symbolic_call\n",
            "    return self._infer_output_signature(inputs, args, kwargs, input_masks)\n",
            "  File \"/usr/local/lib/python3.6/dist-packages/tensorflow/python/keras/engine/base_layer.py\", line 869, in _infer_output_signature\n",
            "    keras_tensor.keras_tensor_from_tensor, outputs)\n",
            "  File \"/usr/local/lib/python3.6/dist-packages/tensorflow/python/util/nest.py\", line 659, in map_structure\n",
            "    structure[0], [func(*x) for x in entries],\n",
            "  File \"/usr/local/lib/python3.6/dist-packages/tensorflow/python/util/nest.py\", line 659, in <listcomp>\n",
            "    structure[0], [func(*x) for x in entries],\n",
            "  File \"/usr/local/lib/python3.6/dist-packages/tensorflow/python/keras/engine/keras_tensor.py\", line 606, in keras_tensor_from_tensor\n",
            "    out = keras_tensor_cls.from_tensor(tensor)\n",
            "  File \"/usr/local/lib/python3.6/dist-packages/tensorflow/python/keras/engine/keras_tensor.py\", line 205, in from_tensor\n",
            "    type_spec = type_spec_module.type_spec_from_value(tensor)\n",
            "  File \"/usr/local/lib/python3.6/dist-packages/tensorflow/python/framework/type_spec.py\", line 554, in type_spec_from_value\n",
            "    (value, type(value).__name__))\n",
            "TypeError: Could not build a TypeSpec for <KerasTensor: shape=(None, None, 4) dtype=float32 (created by layer 'tf.math.truediv')> with type KerasTensor\n"
          ],
          "name": "stdout"
        }
      ]
    },
    {
      "cell_type": "code",
      "metadata": {
        "colab": {
          "base_uri": "https://localhost:8080/"
        },
        "id": "LRQtJw2jZyHJ",
        "outputId": "e6fd790d-27db-4da9-fa46-e6326f1fb4d4"
      },
      "source": [
        "%tensorflow_version 1.x"
      ],
      "execution_count": null,
      "outputs": [
        {
          "output_type": "stream",
          "text": [
            "TensorFlow 1.x selected.\n"
          ],
          "name": "stdout"
        }
      ]
    },
    {
      "cell_type": "code",
      "metadata": {
        "colab": {
          "base_uri": "https://localhost:8080/"
        },
        "id": "x72UL2t4Z2sD",
        "outputId": "8eef6d34-e9cd-4bdd-ad10-b9c63698fba9"
      },
      "source": [
        "!python3 \"/content/drive/MyDrive/mask/custom.py\""
      ],
      "execution_count": null,
      "outputs": [
        {
          "output_type": "stream",
          "text": [
            "Using TensorFlow backend.\n",
            "WARNING:tensorflow:From /tensorflow-1.15.2/python3.6/tensorflow_core/python/ops/resource_variable_ops.py:1630: calling BaseResourceVariable.__init__ (from tensorflow.python.ops.resource_variable_ops) with constraint is deprecated and will be removed in a future version.\n",
            "Instructions for updating:\n",
            "If using Keras pass *_constraint arguments to layers.\n",
            "WARNING:tensorflow:From /tensorflow-1.15.2/python3.6/keras/backend/tensorflow_backend.py:4070: The name tf.nn.max_pool is deprecated. Please use tf.nn.max_pool2d instead.\n",
            "\n",
            "WARNING:tensorflow:From /tensorflow-1.15.2/python3.6/tensorflow_core/python/ops/array_ops.py:1475: where (from tensorflow.python.ops.array_ops) is deprecated and will be removed in a future version.\n",
            "Instructions for updating:\n",
            "Use tf.where in 2.0, which has the same broadcast rule as np.where\n",
            "WARNING:tensorflow:From /content/drive/MyDrive/mask/mrcnn/model.py:553: The name tf.random_shuffle is deprecated. Please use tf.random.shuffle instead.\n",
            "\n",
            "WARNING:tensorflow:From /content/drive/MyDrive/mask/mrcnn/utils.py:202: The name tf.log is deprecated. Please use tf.math.log instead.\n",
            "\n",
            "WARNING:tensorflow:From /content/drive/MyDrive/mask/mrcnn/model.py:600: calling crop_and_resize_v1 (from tensorflow.python.ops.image_ops_impl) with box_ind is deprecated and will be removed in a future version.\n",
            "Instructions for updating:\n",
            "box_ind is deprecated, use box_indices instead\n",
            "2021-02-23 12:45:08.484664: I tensorflow/stream_executor/platform/default/dso_loader.cc:44] Successfully opened dynamic library libcuda.so.1\n",
            "2021-02-23 12:45:08.496011: E tensorflow/stream_executor/cuda/cuda_driver.cc:318] failed call to cuInit: CUDA_ERROR_NO_DEVICE: no CUDA-capable device is detected\n",
            "2021-02-23 12:45:08.496076: I tensorflow/stream_executor/cuda/cuda_diagnostics.cc:156] kernel driver does not appear to be running on this host (d5726b6c6b11): /proc/driver/nvidia/version does not exist\n",
            "2021-02-23 12:45:08.502883: I tensorflow/core/platform/profile_utils/cpu_utils.cc:94] CPU Frequency: 2299995000 Hz\n",
            "2021-02-23 12:45:08.503161: I tensorflow/compiler/xla/service/service.cc:168] XLA service 0x193a4a00 initialized for platform Host (this does not guarantee that XLA will be used). Devices:\n",
            "2021-02-23 12:45:08.503201: I tensorflow/compiler/xla/service/service.cc:176]   StreamExecutor device (0): Host, Default Version\n",
            "objects: ['tusker']\n",
            "numids [2]\n",
            "objects: ['elephant']\n",
            "numids [1]\n",
            "objects: ['tusker']\n",
            "numids [2]\n",
            "objects: ['elephant']\n",
            "numids [1]\n",
            "objects: ['elephant']\n",
            "numids [1]\n",
            "objects: ['tusker']\n",
            "numids [2]\n",
            "objects: ['tusker']\n",
            "numids [2]\n",
            "objects: ['elephant']\n",
            "numids [1]\n",
            "objects: ['tusker']\n",
            "numids [2]\n",
            "objects: ['elephant']\n",
            "numids [1]\n",
            "objects: ['elephant']\n",
            "numids [1]\n",
            "objects: ['elephant']\n",
            "numids [1]\n",
            "Training network heads\n",
            "\n",
            "Starting at epoch 0. LR=0.001\n",
            "\n",
            "Checkpoint Path: /content/drive/MyDrive/mask/MaskRCNN/logs/object20210223T1245/mask_rcnn_object_{epoch:04d}.h5\n",
            "Selecting layers to train\n",
            "fpn_c5p5               (Conv2D)\n",
            "fpn_c4p4               (Conv2D)\n",
            "fpn_c3p3               (Conv2D)\n",
            "fpn_c2p2               (Conv2D)\n",
            "fpn_p5                 (Conv2D)\n",
            "fpn_p2                 (Conv2D)\n",
            "fpn_p3                 (Conv2D)\n",
            "fpn_p4                 (Conv2D)\n",
            "In model:  rpn_model\n",
            "    rpn_conv_shared        (Conv2D)\n",
            "    rpn_class_raw          (Conv2D)\n",
            "    rpn_bbox_pred          (Conv2D)\n",
            "mrcnn_mask_conv1       (TimeDistributed)\n",
            "mrcnn_mask_bn1         (TimeDistributed)\n",
            "mrcnn_mask_conv2       (TimeDistributed)\n",
            "mrcnn_mask_bn2         (TimeDistributed)\n",
            "mrcnn_class_conv1      (TimeDistributed)\n",
            "mrcnn_class_bn1        (TimeDistributed)\n",
            "mrcnn_mask_conv3       (TimeDistributed)\n",
            "mrcnn_mask_bn3         (TimeDistributed)\n",
            "mrcnn_class_conv2      (TimeDistributed)\n",
            "mrcnn_class_bn2        (TimeDistributed)\n",
            "mrcnn_mask_conv4       (TimeDistributed)\n",
            "mrcnn_mask_bn4         (TimeDistributed)\n",
            "mrcnn_bbox_fc          (TimeDistributed)\n",
            "mrcnn_mask_deconv      (TimeDistributed)\n",
            "mrcnn_class_logits     (TimeDistributed)\n",
            "mrcnn_mask             (TimeDistributed)\n",
            "Traceback (most recent call last):\n",
            "  File \"/content/drive/MyDrive/mask/custom.py\", line 198, in <module>\n",
            "    train(model)\t\t\t\n",
            "  File \"/content/drive/MyDrive/mask/custom.py\", line 181, in train\n",
            "    layers='heads')\n",
            "  File \"/content/drive/MyDrive/mask/mrcnn/model.py\", line 2354, in train\n",
            "    self.compile(learning_rate, self.config.LEARNING_MOMENTUM)\n",
            "  File \"/content/drive/MyDrive/mask/mrcnn/model.py\", line 2199, in compile\n",
            "    self.keras_model.metrics_tensors.append(loss)\n",
            "AttributeError: 'Model' object has no attribute 'metrics_tensors'\n"
          ],
          "name": "stdout"
        }
      ]
    },
    {
      "cell_type": "code",
      "metadata": {
        "colab": {
          "base_uri": "https://localhost:8080/"
        },
        "id": "OL6nqxJWaxHO",
        "outputId": "a0a3d239-b9bf-44ca-c8af-93067095d700"
      },
      "source": [
        "!pip3 install keras==2.0.8\r\n"
      ],
      "execution_count": null,
      "outputs": [
        {
          "output_type": "stream",
          "text": [
            "Collecting keras==2.2.5\n",
            "\u001b[?25l  Downloading https://files.pythonhosted.org/packages/f8/ba/2d058dcf1b85b9c212cc58264c98a4a7dd92c989b798823cc5690d062bb2/Keras-2.2.5-py2.py3-none-any.whl (336kB)\n",
            "\r\u001b[K     |█                               | 10kB 10.9MB/s eta 0:00:01\r\u001b[K     |██                              | 20kB 16.1MB/s eta 0:00:01\r\u001b[K     |███                             | 30kB 10.4MB/s eta 0:00:01\r\u001b[K     |████                            | 40kB 8.6MB/s eta 0:00:01\r\u001b[K     |████▉                           | 51kB 4.7MB/s eta 0:00:01\r\u001b[K     |█████▉                          | 61kB 5.1MB/s eta 0:00:01\r\u001b[K     |██████▉                         | 71kB 5.0MB/s eta 0:00:01\r\u001b[K     |███████▉                        | 81kB 5.2MB/s eta 0:00:01\r\u001b[K     |████████▊                       | 92kB 5.6MB/s eta 0:00:01\r\u001b[K     |█████████▊                      | 102kB 4.3MB/s eta 0:00:01\r\u001b[K     |██████████▊                     | 112kB 4.3MB/s eta 0:00:01\r\u001b[K     |███████████▊                    | 122kB 4.3MB/s eta 0:00:01\r\u001b[K     |████████████▊                   | 133kB 4.3MB/s eta 0:00:01\r\u001b[K     |█████████████▋                  | 143kB 4.3MB/s eta 0:00:01\r\u001b[K     |██████████████▋                 | 153kB 4.3MB/s eta 0:00:01\r\u001b[K     |███████████████▋                | 163kB 4.3MB/s eta 0:00:01\r\u001b[K     |████████████████▋               | 174kB 4.3MB/s eta 0:00:01\r\u001b[K     |█████████████████▌              | 184kB 4.3MB/s eta 0:00:01\r\u001b[K     |██████████████████▌             | 194kB 4.3MB/s eta 0:00:01\r\u001b[K     |███████████████████▌            | 204kB 4.3MB/s eta 0:00:01\r\u001b[K     |████████████████████▌           | 215kB 4.3MB/s eta 0:00:01\r\u001b[K     |█████████████████████▍          | 225kB 4.3MB/s eta 0:00:01\r\u001b[K     |██████████████████████▍         | 235kB 4.3MB/s eta 0:00:01\r\u001b[K     |███████████████████████▍        | 245kB 4.3MB/s eta 0:00:01\r\u001b[K     |████████████████████████▍       | 256kB 4.3MB/s eta 0:00:01\r\u001b[K     |█████████████████████████▍      | 266kB 4.3MB/s eta 0:00:01\r\u001b[K     |██████████████████████████▎     | 276kB 4.3MB/s eta 0:00:01\r\u001b[K     |███████████████████████████▎    | 286kB 4.3MB/s eta 0:00:01\r\u001b[K     |████████████████████████████▎   | 296kB 4.3MB/s eta 0:00:01\r\u001b[K     |█████████████████████████████▎  | 307kB 4.3MB/s eta 0:00:01\r\u001b[K     |██████████████████████████████▏ | 317kB 4.3MB/s eta 0:00:01\r\u001b[K     |███████████████████████████████▏| 327kB 4.3MB/s eta 0:00:01\r\u001b[K     |████████████████████████████████| 337kB 4.3MB/s \n",
            "\u001b[?25hRequirement already satisfied: keras-preprocessing>=1.1.0 in /usr/local/lib/python3.6/dist-packages (from keras==2.2.5) (1.1.2)\n",
            "Requirement already satisfied: numpy>=1.9.1 in /usr/local/lib/python3.6/dist-packages (from keras==2.2.5) (1.19.5)\n",
            "Requirement already satisfied: pyyaml in /usr/local/lib/python3.6/dist-packages (from keras==2.2.5) (3.13)\n",
            "Requirement already satisfied: scipy>=0.14 in /usr/local/lib/python3.6/dist-packages (from keras==2.2.5) (1.4.1)\n",
            "Requirement already satisfied: h5py in /usr/local/lib/python3.6/dist-packages (from keras==2.2.5) (2.10.0)\n",
            "Requirement already satisfied: six>=1.9.0 in /usr/local/lib/python3.6/dist-packages (from keras==2.2.5) (1.15.0)\n",
            "Requirement already satisfied: keras-applications>=1.0.8 in /tensorflow-1.15.2/python3.6 (from keras==2.2.5) (1.0.8)\n",
            "Installing collected packages: keras\n",
            "  Found existing installation: Keras 2.3.1\n",
            "    Uninstalling Keras-2.3.1:\n",
            "      Successfully uninstalled Keras-2.3.1\n",
            "Successfully installed keras-2.4.3\n"
          ],
          "name": "stdout"
        }
      ]
    },
    {
      "cell_type": "code",
      "metadata": {
        "id": "tbXdA3skRA4F"
      },
      "source": [
        ""
      ],
      "execution_count": null,
      "outputs": []
    },
    {
      "cell_type": "code",
      "metadata": {
        "colab": {
          "base_uri": "https://localhost:8080/"
        },
        "id": "Sc6ZZ2zPPl8M",
        "outputId": "f8ec23dd-9dc3-4786-c818-c9d39da54630"
      },
      "source": [
        "!pip3 install keras"
      ],
      "execution_count": null,
      "outputs": [
        {
          "output_type": "stream",
          "text": [
            "Requirement already satisfied: keras in /usr/local/lib/python3.7/dist-packages (2.4.3)\n",
            "Requirement already satisfied: numpy>=1.9.1 in /usr/local/lib/python3.7/dist-packages (from keras) (1.19.5)\n",
            "Requirement already satisfied: scipy>=0.14 in /usr/local/lib/python3.7/dist-packages (from keras) (1.4.1)\n",
            "Requirement already satisfied: pyyaml in /usr/local/lib/python3.7/dist-packages (from keras) (3.13)\n",
            "Requirement already satisfied: h5py in /usr/local/lib/python3.7/dist-packages (from keras) (2.10.0)\n",
            "Requirement already satisfied: six in /usr/local/lib/python3.7/dist-packages (from h5py->keras) (1.15.0)\n"
          ],
          "name": "stdout"
        }
      ]
    },
    {
      "cell_type": "code",
      "metadata": {
        "colab": {
          "base_uri": "https://localhost:8080/"
        },
        "id": "a8UuZbmOO5m3",
        "outputId": "8c9a70cd-6a37-4a0b-835e-fe88a4fba47d"
      },
      "source": [
        "!pip3 install tensorflow==1.14"
      ],
      "execution_count": null,
      "outputs": [
        {
          "output_type": "stream",
          "text": [
            "Requirement already satisfied: tensorflow==1.14 in /usr/local/lib/python3.7/dist-packages (1.14.0)\n",
            "Requirement already satisfied: grpcio>=1.8.6 in /usr/local/lib/python3.7/dist-packages (from tensorflow==1.14) (1.32.0)\n",
            "Requirement already satisfied: tensorflow-estimator<1.15.0rc0,>=1.14.0rc0 in /usr/local/lib/python3.7/dist-packages (from tensorflow==1.14) (1.14.0)\n",
            "Requirement already satisfied: six>=1.10.0 in /usr/local/lib/python3.7/dist-packages (from tensorflow==1.14) (1.15.0)\n",
            "Requirement already satisfied: absl-py>=0.7.0 in /usr/local/lib/python3.7/dist-packages (from tensorflow==1.14) (0.10.0)\n",
            "Requirement already satisfied: numpy<2.0,>=1.14.5 in /usr/local/lib/python3.7/dist-packages (from tensorflow==1.14) (1.19.5)\n",
            "Requirement already satisfied: astor>=0.6.0 in /usr/local/lib/python3.7/dist-packages (from tensorflow==1.14) (0.8.1)\n",
            "Requirement already satisfied: wrapt>=1.11.1 in /usr/local/lib/python3.7/dist-packages (from tensorflow==1.14) (1.12.1)\n",
            "Requirement already satisfied: keras-preprocessing>=1.0.5 in /usr/local/lib/python3.7/dist-packages (from tensorflow==1.14) (1.1.2)\n",
            "Requirement already satisfied: gast>=0.2.0 in /usr/local/lib/python3.7/dist-packages (from tensorflow==1.14) (0.3.3)\n",
            "Requirement already satisfied: tensorboard<1.15.0,>=1.14.0 in /usr/local/lib/python3.7/dist-packages (from tensorflow==1.14) (1.14.0)\n",
            "Requirement already satisfied: keras-applications>=1.0.6 in /usr/local/lib/python3.7/dist-packages (from tensorflow==1.14) (1.0.8)\n",
            "Requirement already satisfied: google-pasta>=0.1.6 in /usr/local/lib/python3.7/dist-packages (from tensorflow==1.14) (0.2.0)\n",
            "Requirement already satisfied: wheel>=0.26 in /usr/local/lib/python3.7/dist-packages (from tensorflow==1.14) (0.36.2)\n",
            "Requirement already satisfied: termcolor>=1.1.0 in /usr/local/lib/python3.7/dist-packages (from tensorflow==1.14) (1.1.0)\n",
            "Requirement already satisfied: protobuf>=3.6.1 in /usr/local/lib/python3.7/dist-packages (from tensorflow==1.14) (3.12.4)\n",
            "Requirement already satisfied: setuptools>=41.0.0 in /usr/local/lib/python3.7/dist-packages (from tensorboard<1.15.0,>=1.14.0->tensorflow==1.14) (53.0.0)\n",
            "Requirement already satisfied: werkzeug>=0.11.15 in /usr/local/lib/python3.7/dist-packages (from tensorboard<1.15.0,>=1.14.0->tensorflow==1.14) (1.0.1)\n",
            "Requirement already satisfied: markdown>=2.6.8 in /usr/local/lib/python3.7/dist-packages (from tensorboard<1.15.0,>=1.14.0->tensorflow==1.14) (3.3.3)\n",
            "Requirement already satisfied: h5py in /usr/local/lib/python3.7/dist-packages (from keras-applications>=1.0.6->tensorflow==1.14) (2.10.0)\n",
            "Requirement already satisfied: importlib-metadata; python_version < \"3.8\" in /usr/local/lib/python3.7/dist-packages (from markdown>=2.6.8->tensorboard<1.15.0,>=1.14.0->tensorflow==1.14) (3.4.0)\n",
            "Requirement already satisfied: typing-extensions>=3.6.4; python_version < \"3.8\" in /usr/local/lib/python3.7/dist-packages (from importlib-metadata; python_version < \"3.8\"->markdown>=2.6.8->tensorboard<1.15.0,>=1.14.0->tensorflow==1.14) (3.7.4.3)\n",
            "Requirement already satisfied: zipp>=0.5 in /usr/local/lib/python3.7/dist-packages (from importlib-metadata; python_version < \"3.8\"->markdown>=2.6.8->tensorboard<1.15.0,>=1.14.0->tensorflow==1.14) (3.4.0)\n",
            "\u001b[31mERROR: Operation cancelled by user\u001b[0m\n"
          ],
          "name": "stdout"
        }
      ]
    },
    {
      "cell_type": "code",
      "metadata": {
        "colab": {
          "base_uri": "https://localhost:8080/"
        },
        "id": "OM4gaMjCuLHe",
        "outputId": "8310668a-bdba-47bf-badd-596aa276ad79"
      },
      "source": [
        "!python3 \"/content/drive/MyDrive/mask/custom.py\""
      ],
      "execution_count": null,
      "outputs": [
        {
          "output_type": "stream",
          "text": [
            "/usr/local/lib/python3.7/dist-packages/tensorflow/python/framework/dtypes.py:516: FutureWarning: Passing (type, 1) or '1type' as a synonym of type is deprecated; in a future version of numpy, it will be understood as (type, (1,)) / '(1,)type'.\n",
            "  _np_qint8 = np.dtype([(\"qint8\", np.int8, 1)])\n",
            "/usr/local/lib/python3.7/dist-packages/tensorflow/python/framework/dtypes.py:517: FutureWarning: Passing (type, 1) or '1type' as a synonym of type is deprecated; in a future version of numpy, it will be understood as (type, (1,)) / '(1,)type'.\n",
            "  _np_quint8 = np.dtype([(\"quint8\", np.uint8, 1)])\n",
            "/usr/local/lib/python3.7/dist-packages/tensorflow/python/framework/dtypes.py:518: FutureWarning: Passing (type, 1) or '1type' as a synonym of type is deprecated; in a future version of numpy, it will be understood as (type, (1,)) / '(1,)type'.\n",
            "  _np_qint16 = np.dtype([(\"qint16\", np.int16, 1)])\n",
            "/usr/local/lib/python3.7/dist-packages/tensorflow/python/framework/dtypes.py:519: FutureWarning: Passing (type, 1) or '1type' as a synonym of type is deprecated; in a future version of numpy, it will be understood as (type, (1,)) / '(1,)type'.\n",
            "  _np_quint16 = np.dtype([(\"quint16\", np.uint16, 1)])\n",
            "/usr/local/lib/python3.7/dist-packages/tensorflow/python/framework/dtypes.py:520: FutureWarning: Passing (type, 1) or '1type' as a synonym of type is deprecated; in a future version of numpy, it will be understood as (type, (1,)) / '(1,)type'.\n",
            "  _np_qint32 = np.dtype([(\"qint32\", np.int32, 1)])\n",
            "/usr/local/lib/python3.7/dist-packages/tensorflow/python/framework/dtypes.py:525: FutureWarning: Passing (type, 1) or '1type' as a synonym of type is deprecated; in a future version of numpy, it will be understood as (type, (1,)) / '(1,)type'.\n",
            "  np_resource = np.dtype([(\"resource\", np.ubyte, 1)])\n",
            "/usr/local/lib/python3.7/dist-packages/tensorboard/compat/tensorflow_stub/dtypes.py:541: FutureWarning: Passing (type, 1) or '1type' as a synonym of type is deprecated; in a future version of numpy, it will be understood as (type, (1,)) / '(1,)type'.\n",
            "  _np_qint8 = np.dtype([(\"qint8\", np.int8, 1)])\n",
            "/usr/local/lib/python3.7/dist-packages/tensorboard/compat/tensorflow_stub/dtypes.py:542: FutureWarning: Passing (type, 1) or '1type' as a synonym of type is deprecated; in a future version of numpy, it will be understood as (type, (1,)) / '(1,)type'.\n",
            "  _np_quint8 = np.dtype([(\"quint8\", np.uint8, 1)])\n",
            "/usr/local/lib/python3.7/dist-packages/tensorboard/compat/tensorflow_stub/dtypes.py:543: FutureWarning: Passing (type, 1) or '1type' as a synonym of type is deprecated; in a future version of numpy, it will be understood as (type, (1,)) / '(1,)type'.\n",
            "  _np_qint16 = np.dtype([(\"qint16\", np.int16, 1)])\n",
            "/usr/local/lib/python3.7/dist-packages/tensorboard/compat/tensorflow_stub/dtypes.py:544: FutureWarning: Passing (type, 1) or '1type' as a synonym of type is deprecated; in a future version of numpy, it will be understood as (type, (1,)) / '(1,)type'.\n",
            "  _np_quint16 = np.dtype([(\"quint16\", np.uint16, 1)])\n",
            "/usr/local/lib/python3.7/dist-packages/tensorboard/compat/tensorflow_stub/dtypes.py:545: FutureWarning: Passing (type, 1) or '1type' as a synonym of type is deprecated; in a future version of numpy, it will be understood as (type, (1,)) / '(1,)type'.\n",
            "  _np_qint32 = np.dtype([(\"qint32\", np.int32, 1)])\n",
            "/usr/local/lib/python3.7/dist-packages/tensorboard/compat/tensorflow_stub/dtypes.py:550: FutureWarning: Passing (type, 1) or '1type' as a synonym of type is deprecated; in a future version of numpy, it will be understood as (type, (1,)) / '(1,)type'.\n",
            "  np_resource = np.dtype([(\"resource\", np.ubyte, 1)])\n",
            "Traceback (most recent call last):\n",
            "  File \"/usr/local/lib/python3.7/dist-packages/keras/__init__.py\", line 3, in <module>\n",
            "    from tensorflow.keras.layers.experimental.preprocessing import RandomRotation\n",
            "ModuleNotFoundError: No module named 'tensorflow.keras.layers.experimental.preprocessing'\n",
            "\n",
            "During handling of the above exception, another exception occurred:\n",
            "\n",
            "Traceback (most recent call last):\n",
            "  File \"/content/drive/MyDrive/mask/custom.py\", line 17, in <module>\n",
            "    from mrcnn import model as modellib, utils\n",
            "  File \"/content/drive/MyDrive/mask/mrcnn/model.py\", line 20, in <module>\n",
            "    import keras\n",
            "  File \"/usr/local/lib/python3.7/dist-packages/keras/__init__.py\", line 6, in <module>\n",
            "    'Keras requires TensorFlow 2.2 or higher. '\n",
            "ImportError: Keras requires TensorFlow 2.2 or higher. Install TensorFlow via `pip install tensorflow`\n"
          ],
          "name": "stdout"
        }
      ]
    },
    {
      "cell_type": "code",
      "metadata": {
        "colab": {
          "base_uri": "https://localhost:8080/"
        },
        "id": "nVMwJPkLP0ja",
        "outputId": "72772807-9b40-4512-dd16-1a1fad8cd73f"
      },
      "source": [
        "!pip3 install keras"
      ],
      "execution_count": null,
      "outputs": [
        {
          "output_type": "stream",
          "text": [
            "Requirement already satisfied: keras in /usr/local/lib/python3.7/dist-packages (2.4.3)\n",
            "Requirement already satisfied: scipy>=0.14 in /usr/local/lib/python3.7/dist-packages (from keras) (1.4.1)\n",
            "Requirement already satisfied: h5py in /usr/local/lib/python3.7/dist-packages (from keras) (2.10.0)\n",
            "Requirement already satisfied: pyyaml in /usr/local/lib/python3.7/dist-packages (from keras) (3.13)\n",
            "Requirement already satisfied: numpy>=1.9.1 in /usr/local/lib/python3.7/dist-packages (from keras) (1.19.5)\n",
            "Requirement already satisfied: six in /usr/local/lib/python3.7/dist-packages (from h5py->keras) (1.15.0)\n"
          ],
          "name": "stdout"
        }
      ]
    },
    {
      "cell_type": "code",
      "metadata": {
        "colab": {
          "base_uri": "https://localhost:8080/"
        },
        "id": "6lOoleq7P7ze",
        "outputId": "2d951b1e-37f9-4cd1-ff7b-659fd16d2414"
      },
      "source": [
        "pip install tensorflow"
      ],
      "execution_count": null,
      "outputs": [
        {
          "output_type": "stream",
          "text": [
            "Requirement already satisfied: tensorflow in /usr/local/lib/python3.7/dist-packages (1.14.0)\n",
            "Requirement already satisfied: absl-py>=0.7.0 in /usr/local/lib/python3.7/dist-packages (from tensorflow) (0.10.0)\n",
            "Requirement already satisfied: keras-applications>=1.0.6 in /usr/local/lib/python3.7/dist-packages (from tensorflow) (1.0.8)\n",
            "Requirement already satisfied: wrapt>=1.11.1 in /usr/local/lib/python3.7/dist-packages (from tensorflow) (1.12.1)\n",
            "Requirement already satisfied: numpy<2.0,>=1.14.5 in /usr/local/lib/python3.7/dist-packages (from tensorflow) (1.19.5)\n",
            "Requirement already satisfied: protobuf>=3.6.1 in /usr/local/lib/python3.7/dist-packages (from tensorflow) (3.12.4)\n",
            "Requirement already satisfied: tensorflow-estimator<1.15.0rc0,>=1.14.0rc0 in /usr/local/lib/python3.7/dist-packages (from tensorflow) (1.14.0)\n",
            "Requirement already satisfied: termcolor>=1.1.0 in /usr/local/lib/python3.7/dist-packages (from tensorflow) (1.1.0)\n",
            "Requirement already satisfied: grpcio>=1.8.6 in /usr/local/lib/python3.7/dist-packages (from tensorflow) (1.32.0)\n",
            "Requirement already satisfied: wheel>=0.26 in /usr/local/lib/python3.7/dist-packages (from tensorflow) (0.36.2)\n",
            "Requirement already satisfied: keras-preprocessing>=1.0.5 in /usr/local/lib/python3.7/dist-packages (from tensorflow) (1.1.2)\n",
            "Requirement already satisfied: google-pasta>=0.1.6 in /usr/local/lib/python3.7/dist-packages (from tensorflow) (0.2.0)\n",
            "Requirement already satisfied: six>=1.10.0 in /usr/local/lib/python3.7/dist-packages (from tensorflow) (1.15.0)\n",
            "Requirement already satisfied: tensorboard<1.15.0,>=1.14.0 in /usr/local/lib/python3.7/dist-packages (from tensorflow) (1.14.0)\n",
            "Requirement already satisfied: astor>=0.6.0 in /usr/local/lib/python3.7/dist-packages (from tensorflow) (0.8.1)\n",
            "Requirement already satisfied: gast>=0.2.0 in /usr/local/lib/python3.7/dist-packages (from tensorflow) (0.3.3)\n",
            "Requirement already satisfied: h5py in /usr/local/lib/python3.7/dist-packages (from keras-applications>=1.0.6->tensorflow) (2.10.0)\n",
            "Requirement already satisfied: setuptools in /usr/local/lib/python3.7/dist-packages (from protobuf>=3.6.1->tensorflow) (53.0.0)\n",
            "Requirement already satisfied: werkzeug>=0.11.15 in /usr/local/lib/python3.7/dist-packages (from tensorboard<1.15.0,>=1.14.0->tensorflow) (1.0.1)\n",
            "Requirement already satisfied: markdown>=2.6.8 in /usr/local/lib/python3.7/dist-packages (from tensorboard<1.15.0,>=1.14.0->tensorflow) (3.3.3)\n",
            "Requirement already satisfied: importlib-metadata; python_version < \"3.8\" in /usr/local/lib/python3.7/dist-packages (from markdown>=2.6.8->tensorboard<1.15.0,>=1.14.0->tensorflow) (3.4.0)\n",
            "Requirement already satisfied: zipp>=0.5 in /usr/local/lib/python3.7/dist-packages (from importlib-metadata; python_version < \"3.8\"->markdown>=2.6.8->tensorboard<1.15.0,>=1.14.0->tensorflow) (3.4.0)\n",
            "Requirement already satisfied: typing-extensions>=3.6.4; python_version < \"3.8\" in /usr/local/lib/python3.7/dist-packages (from importlib-metadata; python_version < \"3.8\"->markdown>=2.6.8->tensorboard<1.15.0,>=1.14.0->tensorflow) (3.7.4.3)\n"
          ],
          "name": "stdout"
        }
      ]
    },
    {
      "cell_type": "code",
      "metadata": {
        "colab": {
          "base_uri": "https://localhost:8080/"
        },
        "id": "gZIulSSIQqX5",
        "outputId": "dfef4ae7-98a3-446e-9c6e-864e43e315a8"
      },
      "source": [
        "!pip3 install tensorflow==1.14"
      ],
      "execution_count": null,
      "outputs": [
        {
          "output_type": "stream",
          "text": [
            "Requirement already satisfied: tensorflow==1.14 in /usr/local/lib/python3.7/dist-packages (1.14.0)\n",
            "Requirement already satisfied: gast>=0.2.0 in /usr/local/lib/python3.7/dist-packages (from tensorflow==1.14) (0.3.3)\n",
            "Requirement already satisfied: numpy<2.0,>=1.14.5 in /usr/local/lib/python3.7/dist-packages (from tensorflow==1.14) (1.19.5)\n",
            "Requirement already satisfied: six>=1.10.0 in /usr/local/lib/python3.7/dist-packages (from tensorflow==1.14) (1.15.0)\n",
            "Requirement already satisfied: termcolor>=1.1.0 in /usr/local/lib/python3.7/dist-packages (from tensorflow==1.14) (1.1.0)\n",
            "Requirement already satisfied: wrapt>=1.11.1 in /usr/local/lib/python3.7/dist-packages (from tensorflow==1.14) (1.12.1)\n",
            "Requirement already satisfied: astor>=0.6.0 in /usr/local/lib/python3.7/dist-packages (from tensorflow==1.14) (0.8.1)\n",
            "Requirement already satisfied: keras-preprocessing>=1.0.5 in /usr/local/lib/python3.7/dist-packages (from tensorflow==1.14) (1.1.2)\n",
            "Requirement already satisfied: tensorboard<1.15.0,>=1.14.0 in /usr/local/lib/python3.7/dist-packages (from tensorflow==1.14) (1.14.0)\n",
            "Requirement already satisfied: tensorflow-estimator<1.15.0rc0,>=1.14.0rc0 in /usr/local/lib/python3.7/dist-packages (from tensorflow==1.14) (1.14.0)\n",
            "Requirement already satisfied: grpcio>=1.8.6 in /usr/local/lib/python3.7/dist-packages (from tensorflow==1.14) (1.32.0)\n",
            "Requirement already satisfied: wheel>=0.26 in /usr/local/lib/python3.7/dist-packages (from tensorflow==1.14) (0.36.2)\n",
            "Requirement already satisfied: absl-py>=0.7.0 in /usr/local/lib/python3.7/dist-packages (from tensorflow==1.14) (0.10.0)\n",
            "Requirement already satisfied: keras-applications>=1.0.6 in /usr/local/lib/python3.7/dist-packages (from tensorflow==1.14) (1.0.8)\n",
            "Requirement already satisfied: google-pasta>=0.1.6 in /usr/local/lib/python3.7/dist-packages (from tensorflow==1.14) (0.2.0)\n",
            "Requirement already satisfied: protobuf>=3.6.1 in /usr/local/lib/python3.7/dist-packages (from tensorflow==1.14) (3.12.4)\n",
            "Requirement already satisfied: setuptools>=41.0.0 in /usr/local/lib/python3.7/dist-packages (from tensorboard<1.15.0,>=1.14.0->tensorflow==1.14) (53.0.0)\n",
            "Requirement already satisfied: werkzeug>=0.11.15 in /usr/local/lib/python3.7/dist-packages (from tensorboard<1.15.0,>=1.14.0->tensorflow==1.14) (1.0.1)\n",
            "Requirement already satisfied: markdown>=2.6.8 in /usr/local/lib/python3.7/dist-packages (from tensorboard<1.15.0,>=1.14.0->tensorflow==1.14) (3.3.3)\n",
            "Requirement already satisfied: h5py in /usr/local/lib/python3.7/dist-packages (from keras-applications>=1.0.6->tensorflow==1.14) (2.10.0)\n",
            "Requirement already satisfied: importlib-metadata; python_version < \"3.8\" in /usr/local/lib/python3.7/dist-packages (from markdown>=2.6.8->tensorboard<1.15.0,>=1.14.0->tensorflow==1.14) (3.4.0)\n",
            "Requirement already satisfied: typing-extensions>=3.6.4; python_version < \"3.8\" in /usr/local/lib/python3.7/dist-packages (from importlib-metadata; python_version < \"3.8\"->markdown>=2.6.8->tensorboard<1.15.0,>=1.14.0->tensorflow==1.14) (3.7.4.3)\n",
            "Requirement already satisfied: zipp>=0.5 in /usr/local/lib/python3.7/dist-packages (from importlib-metadata; python_version < \"3.8\"->markdown>=2.6.8->tensorboard<1.15.0,>=1.14.0->tensorflow==1.14) (3.4.0)\n"
          ],
          "name": "stdout"
        }
      ]
    },
    {
      "cell_type": "code",
      "metadata": {
        "id": "8WgGpHLbQ5GC"
      },
      "source": [
        "keras 2.0.8"
      ],
      "execution_count": null,
      "outputs": []
    },
    {
      "cell_type": "code",
      "metadata": {
        "colab": {
          "base_uri": "https://localhost:8080/"
        },
        "id": "rWj6PtMDRB5a",
        "outputId": "bf15b42b-1a72-41d3-a081-ce4841841bc4"
      },
      "source": [
        "!pip3 install keras==2.0.8\r\n"
      ],
      "execution_count": null,
      "outputs": [
        {
          "output_type": "stream",
          "text": [
            "Collecting keras==2.0.8\n",
            "\u001b[?25l  Downloading https://files.pythonhosted.org/packages/67/3f/d117d6e48b19fb9589369f4bdbe883aa88943f8bb4a850559ea5c546fefb/Keras-2.0.8-py2.py3-none-any.whl (276kB)\n",
            "\r\u001b[K     |█▏                              | 10kB 14.6MB/s eta 0:00:01\r\u001b[K     |██▍                             | 20kB 14.9MB/s eta 0:00:01\r\u001b[K     |███▋                            | 30kB 8.6MB/s eta 0:00:01\r\u001b[K     |████▊                           | 40kB 8.5MB/s eta 0:00:01\r\u001b[K     |██████                          | 51kB 4.3MB/s eta 0:00:01\r\u001b[K     |███████▏                        | 61kB 4.6MB/s eta 0:00:01\r\u001b[K     |████████▎                       | 71kB 4.8MB/s eta 0:00:01\r\u001b[K     |█████████▌                      | 81kB 4.9MB/s eta 0:00:01\r\u001b[K     |██████████▊                     | 92kB 5.3MB/s eta 0:00:01\r\u001b[K     |███████████▉                    | 102kB 4.2MB/s eta 0:00:01\r\u001b[K     |█████████████                   | 112kB 4.2MB/s eta 0:00:01\r\u001b[K     |██████████████▎                 | 122kB 4.2MB/s eta 0:00:01\r\u001b[K     |███████████████▍                | 133kB 4.2MB/s eta 0:00:01\r\u001b[K     |████████████████▋               | 143kB 4.2MB/s eta 0:00:01\r\u001b[K     |█████████████████▉              | 153kB 4.2MB/s eta 0:00:01\r\u001b[K     |███████████████████             | 163kB 4.2MB/s eta 0:00:01\r\u001b[K     |████████████████████▏           | 174kB 4.2MB/s eta 0:00:01\r\u001b[K     |█████████████████████▍          | 184kB 4.2MB/s eta 0:00:01\r\u001b[K     |██████████████████████▌         | 194kB 4.2MB/s eta 0:00:01\r\u001b[K     |███████████████████████▊        | 204kB 4.2MB/s eta 0:00:01\r\u001b[K     |█████████████████████████       | 215kB 4.2MB/s eta 0:00:01\r\u001b[K     |██████████████████████████▏     | 225kB 4.2MB/s eta 0:00:01\r\u001b[K     |███████████████████████████▎    | 235kB 4.2MB/s eta 0:00:01\r\u001b[K     |████████████████████████████▌   | 245kB 4.2MB/s eta 0:00:01\r\u001b[K     |█████████████████████████████▊  | 256kB 4.2MB/s eta 0:00:01\r\u001b[K     |██████████████████████████████▉ | 266kB 4.2MB/s eta 0:00:01\r\u001b[K     |████████████████████████████████| 276kB 4.2MB/s \n",
            "\u001b[?25hRequirement already satisfied: six>=1.9.0 in /usr/local/lib/python3.7/dist-packages (from keras==2.0.8) (1.15.0)\n",
            "Requirement already satisfied: pyyaml in /usr/local/lib/python3.7/dist-packages (from keras==2.0.8) (3.13)\n",
            "Requirement already satisfied: numpy>=1.9.1 in /usr/local/lib/python3.7/dist-packages (from keras==2.0.8) (1.19.5)\n",
            "Requirement already satisfied: scipy>=0.14 in /usr/local/lib/python3.7/dist-packages (from keras==2.0.8) (1.4.1)\n",
            "\u001b[31mERROR: textgenrnn 1.4.1 has requirement keras>=2.1.5, but you'll have keras 2.0.8 which is incompatible.\u001b[0m\n",
            "Installing collected packages: keras\n",
            "  Found existing installation: Keras 2.4.3\n",
            "    Uninstalling Keras-2.4.3:\n",
            "      Successfully uninstalled Keras-2.4.3\n",
            "Successfully installed keras-2.0.8\n"
          ],
          "name": "stdout"
        }
      ]
    },
    {
      "cell_type": "code",
      "metadata": {
        "colab": {
          "base_uri": "https://localhost:8080/"
        },
        "id": "JL0h_RjURJAr",
        "outputId": "37000fb2-c4fa-4d8b-e376-2856a655ad51"
      },
      "source": [
        "!python3 \"/content/drive/MyDrive/mask/custom.py\""
      ],
      "execution_count": 19,
      "outputs": [
        {
          "output_type": "stream",
          "text": [
            "/usr/local/lib/python3.7/dist-packages/tensorflow/python/framework/dtypes.py:516: FutureWarning: Passing (type, 1) or '1type' as a synonym of type is deprecated; in a future version of numpy, it will be understood as (type, (1,)) / '(1,)type'.\n",
            "  _np_qint8 = np.dtype([(\"qint8\", np.int8, 1)])\n",
            "/usr/local/lib/python3.7/dist-packages/tensorflow/python/framework/dtypes.py:517: FutureWarning: Passing (type, 1) or '1type' as a synonym of type is deprecated; in a future version of numpy, it will be understood as (type, (1,)) / '(1,)type'.\n",
            "  _np_quint8 = np.dtype([(\"quint8\", np.uint8, 1)])\n",
            "/usr/local/lib/python3.7/dist-packages/tensorflow/python/framework/dtypes.py:518: FutureWarning: Passing (type, 1) or '1type' as a synonym of type is deprecated; in a future version of numpy, it will be understood as (type, (1,)) / '(1,)type'.\n",
            "  _np_qint16 = np.dtype([(\"qint16\", np.int16, 1)])\n",
            "/usr/local/lib/python3.7/dist-packages/tensorflow/python/framework/dtypes.py:519: FutureWarning: Passing (type, 1) or '1type' as a synonym of type is deprecated; in a future version of numpy, it will be understood as (type, (1,)) / '(1,)type'.\n",
            "  _np_quint16 = np.dtype([(\"quint16\", np.uint16, 1)])\n",
            "/usr/local/lib/python3.7/dist-packages/tensorflow/python/framework/dtypes.py:520: FutureWarning: Passing (type, 1) or '1type' as a synonym of type is deprecated; in a future version of numpy, it will be understood as (type, (1,)) / '(1,)type'.\n",
            "  _np_qint32 = np.dtype([(\"qint32\", np.int32, 1)])\n",
            "/usr/local/lib/python3.7/dist-packages/tensorflow/python/framework/dtypes.py:525: FutureWarning: Passing (type, 1) or '1type' as a synonym of type is deprecated; in a future version of numpy, it will be understood as (type, (1,)) / '(1,)type'.\n",
            "  np_resource = np.dtype([(\"resource\", np.ubyte, 1)])\n",
            "/usr/local/lib/python3.7/dist-packages/tensorboard/compat/tensorflow_stub/dtypes.py:541: FutureWarning: Passing (type, 1) or '1type' as a synonym of type is deprecated; in a future version of numpy, it will be understood as (type, (1,)) / '(1,)type'.\n",
            "  _np_qint8 = np.dtype([(\"qint8\", np.int8, 1)])\n",
            "/usr/local/lib/python3.7/dist-packages/tensorboard/compat/tensorflow_stub/dtypes.py:542: FutureWarning: Passing (type, 1) or '1type' as a synonym of type is deprecated; in a future version of numpy, it will be understood as (type, (1,)) / '(1,)type'.\n",
            "  _np_quint8 = np.dtype([(\"quint8\", np.uint8, 1)])\n",
            "/usr/local/lib/python3.7/dist-packages/tensorboard/compat/tensorflow_stub/dtypes.py:543: FutureWarning: Passing (type, 1) or '1type' as a synonym of type is deprecated; in a future version of numpy, it will be understood as (type, (1,)) / '(1,)type'.\n",
            "  _np_qint16 = np.dtype([(\"qint16\", np.int16, 1)])\n",
            "/usr/local/lib/python3.7/dist-packages/tensorboard/compat/tensorflow_stub/dtypes.py:544: FutureWarning: Passing (type, 1) or '1type' as a synonym of type is deprecated; in a future version of numpy, it will be understood as (type, (1,)) / '(1,)type'.\n",
            "  _np_quint16 = np.dtype([(\"quint16\", np.uint16, 1)])\n",
            "/usr/local/lib/python3.7/dist-packages/tensorboard/compat/tensorflow_stub/dtypes.py:545: FutureWarning: Passing (type, 1) or '1type' as a synonym of type is deprecated; in a future version of numpy, it will be understood as (type, (1,)) / '(1,)type'.\n",
            "  _np_qint32 = np.dtype([(\"qint32\", np.int32, 1)])\n",
            "/usr/local/lib/python3.7/dist-packages/tensorboard/compat/tensorflow_stub/dtypes.py:550: FutureWarning: Passing (type, 1) or '1type' as a synonym of type is deprecated; in a future version of numpy, it will be understood as (type, (1,)) / '(1,)type'.\n",
            "  np_resource = np.dtype([(\"resource\", np.ubyte, 1)])\n",
            "Using TensorFlow backend.\n",
            "WARNING:tensorflow:From /usr/local/lib/python3.7/dist-packages/keras/backend/tensorflow_backend.py:442: The name tf.placeholder is deprecated. Please use tf.compat.v1.placeholder instead.\n",
            "\n",
            "WARNING:tensorflow:From /usr/local/lib/python3.7/dist-packages/keras/backend/tensorflow_backend.py:58: The name tf.get_default_graph is deprecated. Please use tf.compat.v1.get_default_graph instead.\n",
            "\n",
            "WARNING:tensorflow:From /usr/local/lib/python3.7/dist-packages/keras/backend/tensorflow_backend.py:3543: The name tf.random_uniform is deprecated. Please use tf.random.uniform instead.\n",
            "\n",
            "WARNING:tensorflow:From /usr/local/lib/python3.7/dist-packages/keras/backend/tensorflow_backend.py:3386: The name tf.nn.max_pool is deprecated. Please use tf.nn.max_pool2d instead.\n",
            "\n",
            "WARNING:tensorflow:From /usr/local/lib/python3.7/dist-packages/keras/backend/tensorflow_backend.py:1768: The name tf.image.resize_nearest_neighbor is deprecated. Please use tf.compat.v1.image.resize_nearest_neighbor instead.\n",
            "\n",
            "WARNING:tensorflow:From /usr/local/lib/python3.7/dist-packages/keras/backend/tensorflow_backend.py:1154: calling reduce_max_v1 (from tensorflow.python.ops.math_ops) with keep_dims is deprecated and will be removed in a future version.\n",
            "Instructions for updating:\n",
            "keep_dims is deprecated, use keepdims instead\n",
            "WARNING:tensorflow:From /usr/local/lib/python3.7/dist-packages/keras/backend/tensorflow_backend.py:1188: calling reduce_sum_v1 (from tensorflow.python.ops.math_ops) with keep_dims is deprecated and will be removed in a future version.\n",
            "Instructions for updating:\n",
            "keep_dims is deprecated, use keepdims instead\n",
            "WARNING:tensorflow:From /usr/local/lib/python3.7/dist-packages/tensorflow/python/ops/array_ops.py:1354: add_dispatch_support.<locals>.wrapper (from tensorflow.python.ops.array_ops) is deprecated and will be removed in a future version.\n",
            "Instructions for updating:\n",
            "Use tf.where in 2.0, which has the same broadcast rule as np.where\n",
            "WARNING:tensorflow:From /content/drive/MyDrive/mask/mrcnn/model.py:553: The name tf.random_shuffle is deprecated. Please use tf.random.shuffle instead.\n",
            "\n",
            "WARNING:tensorflow:From /content/drive/MyDrive/mask/mrcnn/utils.py:202: The name tf.log is deprecated. Please use tf.math.log instead.\n",
            "\n",
            "WARNING:tensorflow:From /content/drive/MyDrive/mask/mrcnn/model.py:600: calling crop_and_resize_v1 (from tensorflow.python.ops.image_ops_impl) with box_ind is deprecated and will be removed in a future version.\n",
            "Instructions for updating:\n",
            "box_ind is deprecated, use box_indices instead\n",
            "2021-02-23 19:08:46.523897: I tensorflow/core/platform/cpu_feature_guard.cc:142] Your CPU supports instructions that this TensorFlow binary was not compiled to use: AVX2 FMA\n",
            "2021-02-23 19:08:46.528839: I tensorflow/core/platform/profile_utils/cpu_utils.cc:94] CPU Frequency: 2299995000 Hz\n",
            "2021-02-23 19:08:46.529203: I tensorflow/compiler/xla/service/service.cc:168] XLA service 0x560452642840 executing computations on platform Host. Devices:\n",
            "2021-02-23 19:08:46.529297: I tensorflow/compiler/xla/service/service.cc:175]   StreamExecutor device (0): <undefined>, <undefined>\n",
            "2021-02-23 19:08:48.000874: W tensorflow/compiler/jit/mark_for_compilation_pass.cc:1412] (One-time warning): Not using XLA:CPU for cluster because envvar TF_XLA_FLAGS=--tf_xla_cpu_global_jit was not set.  If you want XLA:CPU, either set that envvar, or use experimental_jit_scope to enable XLA:CPU.  To confirm that XLA is active, pass --vmodule=xla_compilation_cache=1 (as a proper command-line flag, not via TF_XLA_FLAGS) or set the envvar XLA_FLAGS=--xla_hlo_profile.\n",
            "objects: ['tusker']\n",
            "numids [2]\n",
            "objects: ['elephant']\n",
            "numids [1]\n",
            "objects: ['tusker']\n",
            "numids [2]\n",
            "objects: ['elephant']\n",
            "numids [1]\n",
            "objects: ['elephant']\n",
            "numids [1]\n",
            "objects: ['tusker']\n",
            "numids [2]\n",
            "objects: ['tusker']\n",
            "numids [2]\n",
            "objects: ['elephant']\n",
            "numids [1]\n",
            "objects: ['tusker']\n",
            "numids [2]\n",
            "objects: ['elephant']\n",
            "numids [1]\n",
            "objects: ['elephant']\n",
            "numids [1]\n",
            "objects: ['elephant']\n",
            "numids [1]\n",
            "Training network heads\n",
            "\n",
            "Starting at epoch 0. LR=0.001\n",
            "\n",
            "Checkpoint Path: /content/drive/MyDrive/mask/MaskRCNN/logs/object20210223T1908/mask_rcnn_object_{epoch:04d}.h5\n",
            "Selecting layers to train\n",
            "fpn_c5p5               (Conv2D)\n",
            "fpn_c4p4               (Conv2D)\n",
            "fpn_c3p3               (Conv2D)\n",
            "fpn_c2p2               (Conv2D)\n",
            "fpn_p5                 (Conv2D)\n",
            "fpn_p2                 (Conv2D)\n",
            "fpn_p3                 (Conv2D)\n",
            "fpn_p4                 (Conv2D)\n",
            "In model:  rpn_model\n",
            "    rpn_conv_shared        (Conv2D)\n",
            "    rpn_class_raw          (Conv2D)\n",
            "    rpn_bbox_pred          (Conv2D)\n",
            "mrcnn_mask_conv1       (TimeDistributed)\n",
            "mrcnn_mask_bn1         (TimeDistributed)\n",
            "mrcnn_mask_conv2       (TimeDistributed)\n",
            "mrcnn_mask_bn2         (TimeDistributed)\n",
            "mrcnn_class_conv1      (TimeDistributed)\n",
            "mrcnn_class_bn1        (TimeDistributed)\n",
            "mrcnn_mask_conv3       (TimeDistributed)\n",
            "mrcnn_mask_bn3         (TimeDistributed)\n",
            "mrcnn_class_conv2      (TimeDistributed)\n",
            "mrcnn_class_bn2        (TimeDistributed)\n",
            "mrcnn_mask_conv4       (TimeDistributed)\n",
            "mrcnn_mask_bn4         (TimeDistributed)\n",
            "mrcnn_bbox_fc          (TimeDistributed)\n",
            "mrcnn_mask_deconv      (TimeDistributed)\n",
            "mrcnn_class_logits     (TimeDistributed)\n",
            "mrcnn_mask             (TimeDistributed)\n",
            "WARNING:tensorflow:From /usr/local/lib/python3.7/dist-packages/keras/optimizers.py:711: The name tf.train.Optimizer is deprecated. Please use tf.compat.v1.train.Optimizer instead.\n",
            "\n",
            "/usr/local/lib/python3.7/dist-packages/tensorflow/python/ops/gradients_util.py:93: UserWarning: Converting sparse IndexedSlices to a dense Tensor of unknown shape. This may consume a large amount of memory.\n",
            "  \"Converting sparse IndexedSlices to a dense Tensor of unknown shape. \"\n",
            "/usr/local/lib/python3.7/dist-packages/tensorflow/python/ops/gradients_util.py:93: UserWarning: Converting sparse IndexedSlices to a dense Tensor of unknown shape. This may consume a large amount of memory.\n",
            "  \"Converting sparse IndexedSlices to a dense Tensor of unknown shape. \"\n",
            "/usr/local/lib/python3.7/dist-packages/tensorflow/python/ops/gradients_util.py:93: UserWarning: Converting sparse IndexedSlices to a dense Tensor of unknown shape. This may consume a large amount of memory.\n",
            "  \"Converting sparse IndexedSlices to a dense Tensor of unknown shape. \"\n",
            "WARNING:tensorflow:From /usr/local/lib/python3.7/dist-packages/keras/backend/tensorflow_backend.py:625: calling Constant.__init__ (from tensorflow.python.ops.init_ops) with dtype is deprecated and will be removed in a future version.\n",
            "Instructions for updating:\n",
            "Call initializer instance with the dtype argument instead of passing it to the constructor\n",
            "WARNING:tensorflow:From /usr/local/lib/python3.7/dist-packages/keras/callbacks.py:705: The name tf.summary.merge_all is deprecated. Please use tf.compat.v1.summary.merge_all instead.\n",
            "\n",
            "WARNING:tensorflow:From /usr/local/lib/python3.7/dist-packages/keras/callbacks.py:708: The name tf.summary.FileWriter is deprecated. Please use tf.compat.v1.summary.FileWriter instead.\n",
            "\n",
            "/usr/local/lib/python3.7/dist-packages/keras/engine/training.py:1987: UserWarning: Using a generator with `use_multiprocessing=True` and multiple workers may duplicate your data. Please consider using the`keras.utils.Sequence class.\n",
            "  UserWarning('Using a generator with `use_multiprocessing=True`'\n",
            "Epoch 1/10\n",
            " 9/10 [==========================>...] - ETA: 111s - loss: 2.8709 - rpn_class_loss: 0.0048 - rpn_bbox_loss: 0.0723 - mrcnn_class_loss: 0.1473 - mrcnn_bbox_loss: 1.2611 - mrcnn_mask_loss: 1.3854/usr/local/lib/python3.7/dist-packages/keras/engine/training.py:2142: UserWarning: Using a generator with `use_multiprocessing=True` and multiple workers may duplicate your data. Please consider using the`keras.utils.Sequence class.\n",
            "  UserWarning('Using a generator with `use_multiprocessing=True`'\n",
            "10/10 [==============================] - 2800s - loss: 2.7807 - rpn_class_loss: 0.0046 - rpn_bbox_loss: 0.0673 - mrcnn_class_loss: 0.1356 - mrcnn_bbox_loss: 1.1934 - mrcnn_mask_loss: 1.3798 - val_loss: 2.4304 - val_rpn_class_loss: 0.0101 - val_rpn_bbox_loss: 0.4186 - val_mrcnn_class_loss: 0.1251 - val_mrcnn_bbox_loss: 0.9887 - val_mrcnn_mask_loss: 0.8880\n",
            "Epoch 2/10\n",
            "10/10 [==============================] - 2667s - loss: 0.8958 - rpn_class_loss: 0.0049 - rpn_bbox_loss: 0.0769 - mrcnn_class_loss: 0.0360 - mrcnn_bbox_loss: 0.3797 - mrcnn_mask_loss: 0.3983 - val_loss: 1.3851 - val_rpn_class_loss: 0.0078 - val_rpn_bbox_loss: 0.3824 - val_mrcnn_class_loss: 0.1131 - val_mrcnn_bbox_loss: 0.4817 - val_mrcnn_mask_loss: 0.4000\n",
            "Epoch 3/10\n",
            "10/10 [==============================] - 2714s - loss: 0.6448 - rpn_class_loss: 0.0035 - rpn_bbox_loss: 0.0332 - mrcnn_class_loss: 0.0327 - mrcnn_bbox_loss: 0.2899 - mrcnn_mask_loss: 0.2854 - val_loss: 1.3843 - val_rpn_class_loss: 0.0070 - val_rpn_bbox_loss: 0.4185 - val_mrcnn_class_loss: 0.1301 - val_mrcnn_bbox_loss: 0.5723 - val_mrcnn_mask_loss: 0.2563\n",
            "Epoch 4/10\n",
            "10/10 [==============================] - 2771s - loss: 0.3617 - rpn_class_loss: 0.0028 - rpn_bbox_loss: 0.0296 - mrcnn_class_loss: 0.0208 - mrcnn_bbox_loss: 0.1223 - mrcnn_mask_loss: 0.1862 - val_loss: 1.1649 - val_rpn_class_loss: 0.0059 - val_rpn_bbox_loss: 0.3423 - val_mrcnn_class_loss: 0.1174 - val_mrcnn_bbox_loss: 0.4991 - val_mrcnn_mask_loss: 0.2003\n",
            "Epoch 5/10\n",
            "10/10 [==============================] - 2769s - loss: 0.3288 - rpn_class_loss: 0.0052 - rpn_bbox_loss: 0.0239 - mrcnn_class_loss: 0.0126 - mrcnn_bbox_loss: 0.1202 - mrcnn_mask_loss: 0.1669 - val_loss: 1.0318 - val_rpn_class_loss: 0.0046 - val_rpn_bbox_loss: 0.3325 - val_mrcnn_class_loss: 0.1033 - val_mrcnn_bbox_loss: 0.4278 - val_mrcnn_mask_loss: 0.1636\n",
            "Epoch 6/10\n",
            "10/10 [==============================] - 2753s - loss: 0.3306 - rpn_class_loss: 0.0053 - rpn_bbox_loss: 0.0231 - mrcnn_class_loss: 0.0132 - mrcnn_bbox_loss: 0.1398 - mrcnn_mask_loss: 0.1492 - val_loss: 1.0373 - val_rpn_class_loss: 0.0077 - val_rpn_bbox_loss: 0.3261 - val_mrcnn_class_loss: 0.1110 - val_mrcnn_bbox_loss: 0.4468 - val_mrcnn_mask_loss: 0.1456\n",
            "Epoch 7/10\n",
            "10/10 [==============================] - 2667s - loss: 0.2315 - rpn_class_loss: 0.0021 - rpn_bbox_loss: 0.0116 - mrcnn_class_loss: 0.0135 - mrcnn_bbox_loss: 0.0597 - mrcnn_mask_loss: 0.1445 - val_loss: 1.0201 - val_rpn_class_loss: 0.0058 - val_rpn_bbox_loss: 0.3530 - val_mrcnn_class_loss: 0.1178 - val_mrcnn_bbox_loss: 0.4059 - val_mrcnn_mask_loss: 0.1377\n",
            "Epoch 8/10\n",
            "10/10 [==============================] - 2853s - loss: 0.1960 - rpn_class_loss: 0.0015 - rpn_bbox_loss: 0.0150 - mrcnn_class_loss: 0.0103 - mrcnn_bbox_loss: 0.0529 - mrcnn_mask_loss: 0.1163 - val_loss: 1.1393 - val_rpn_class_loss: 0.0037 - val_rpn_bbox_loss: 0.4500 - val_mrcnn_class_loss: 0.1376 - val_mrcnn_bbox_loss: 0.4216 - val_mrcnn_mask_loss: 0.1263\n",
            "Epoch 9/10\n",
            "10/10 [==============================] - 2826s - loss: 0.2722 - rpn_class_loss: 0.0017 - rpn_bbox_loss: 0.0344 - mrcnn_class_loss: 0.0144 - mrcnn_bbox_loss: 0.1004 - mrcnn_mask_loss: 0.1213 - val_loss: 0.9871 - val_rpn_class_loss: 0.0046 - val_rpn_bbox_loss: 0.3374 - val_mrcnn_class_loss: 0.1289 - val_mrcnn_bbox_loss: 0.4017 - val_mrcnn_mask_loss: 0.1144\n",
            "Epoch 10/10\n",
            "10/10 [==============================] - 2833s - loss: 0.1920 - rpn_class_loss: 0.0020 - rpn_bbox_loss: 0.0214 - mrcnn_class_loss: 0.0116 - mrcnn_bbox_loss: 0.0486 - mrcnn_mask_loss: 0.1084 - val_loss: 0.9422 - val_rpn_class_loss: 0.0051 - val_rpn_bbox_loss: 0.3413 - val_mrcnn_class_loss: 0.1243 - val_mrcnn_bbox_loss: 0.3577 - val_mrcnn_mask_loss: 0.1139\n"
          ],
          "name": "stdout"
        }
      ]
    }
  ]
}